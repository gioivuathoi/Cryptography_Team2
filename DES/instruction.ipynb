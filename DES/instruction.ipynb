{
 "cells": [
  {
   "cell_type": "markdown",
   "metadata": {},
   "source": [
    "This instruction is for running Data Encryption Standard code!"
   ]
  },
  {
   "cell_type": "markdown",
   "metadata": {},
   "source": [
    "First, let's give two inputs: plain text and cipher key"
   ]
  },
  {
   "cell_type": "code",
   "execution_count": 1,
   "metadata": {},
   "outputs": [],
   "source": [
    "# Example\n",
    "pt = \"123456ABCD132536\"\n",
    "key = \"AABB09182736CCDD\"\n"
   ]
  },
  {
   "cell_type": "markdown",
   "metadata": {},
   "source": [
    "Now,  we will encrypt the plain text using the given key, the results will be output of each stage in procedure: Initial permutation, 16 rounds, Cipher text"
   ]
  },
  {
   "cell_type": "code",
   "execution_count": 2,
   "metadata": {},
   "outputs": [
    {
     "name": "stdout",
     "output_type": "stream",
     "text": [
      "Encryption\n",
      "After initial permutation 14A7D67818CA18AD\n",
      "Round  1   18CA18AD   5A78E394   194CD072DE8C\n",
      "Round  2   5A78E394   4A1210F6   4568581ABCCE\n",
      "Round  3   4A1210F6   B8089591   06EDA4ACF5B5\n",
      "Round  4   B8089591   236779C2   DA2D032B6EE3\n",
      "Round  5   236779C2   A15A4B87   69A629FEC913\n",
      "Round  6   A15A4B87   2E8F9C65   C1948E87475E\n",
      "Round  7   2E8F9C65   A9FC20A3   708AD2DDB3C0\n",
      "Round  8   A9FC20A3   308BEE97   34F822F0C66D\n",
      "Round  9   308BEE97   10AF9D37   84BB4473DCCC\n",
      "Round  10   10AF9D37   6CA6CB20   02765708B5BF\n",
      "Round  11   6CA6CB20   FF3C485F   6D5560AF7CA5\n",
      "Round  12   FF3C485F   22A5963B   C2C1E96A4BF3\n",
      "Round  13   22A5963B   387CCDAA   99C31397C91F\n",
      "Round  14   387CCDAA   BD2DD2AB   251B8BC717D0\n",
      "Round  15   BD2DD2AB   CF26B472   3330C5D9A36D\n",
      "Round  16   19BA9212   CF26B472   181C5D75C66D\n",
      "Cipher Text :  C0B7A8D05F3A829C\n",
      "Decryption\n",
      "After initial permutation 19BA9212CF26B472\n",
      "Round  1   CF26B472   BD2DD2AB   181C5D75C66D\n",
      "Round  2   BD2DD2AB   387CCDAA   3330C5D9A36D\n",
      "Round  3   387CCDAA   22A5963B   251B8BC717D0\n",
      "Round  4   22A5963B   FF3C485F   99C31397C91F\n",
      "Round  5   FF3C485F   6CA6CB20   C2C1E96A4BF3\n",
      "Round  6   6CA6CB20   10AF9D37   6D5560AF7CA5\n",
      "Round  7   10AF9D37   308BEE97   02765708B5BF\n",
      "Round  8   308BEE97   A9FC20A3   84BB4473DCCC\n",
      "Round  9   A9FC20A3   2E8F9C65   34F822F0C66D\n",
      "Round  10   2E8F9C65   A15A4B87   708AD2DDB3C0\n",
      "Round  11   A15A4B87   236779C2   C1948E87475E\n",
      "Round  12   236779C2   B8089591   69A629FEC913\n",
      "Round  13   B8089591   4A1210F6   DA2D032B6EE3\n",
      "Round  14   4A1210F6   5A78E394   06EDA4ACF5B5\n",
      "Round  15   5A78E394   18CA18AD   4568581ABCCE\n",
      "Round  16   14A7D678   18CA18AD   194CD072DE8C\n",
      "Plain Text :  123456ABCD132536\n",
      "Encryption\n",
      "After initial permutation 14A7D67818CA18AD\n",
      "Round  1   18CA18AD   661A2778   000008440000\n",
      "Round  2   661A2778   CE3F7FA7   000080008000\n",
      "Round  3   CE3F7FA7   501AD0C1   100000400400\n",
      "Round  4   501AD0C1   6128E58B   000000080008\n",
      "Round  5   6128E58B   4F5D9360   000004005000\n",
      "Round  6   4F5D9360   86F25AA3   000000000020\n",
      "Round  7   86F25AA3   468124A2   000020800800\n",
      "Round  8   468124A2   2248E6E9   800000000210\n",
      "Round  9   2248E6E9   DA499EA7   000002800000\n",
      "Round  10   DA499EA7   9796F87F   200000000204\n",
      "Round  11   9796F87F   35EB26EF   000000100080\n",
      "Round  12   35EB26EF   675C986A   000010000001\n",
      "Round  13   675C986A   23699FB5   040000022000\n",
      "Round  14   23699FB5   BD806F43   020000200100\n",
      "Round  15   BD806F43   9E1DE482   080000000002\n",
      "Round  16   33F9957F   9E1DE482   010000000140\n",
      "Cipher Text :  75C3ADB1F559199E\n"
     ]
    }
   ],
   "source": [
    "from help_function import  *\n",
    "from enc_dec import  *\n",
    "rk, rkb = key_generation(key)\n",
    "print(\"Encryption\")\n",
    "cipher_text = bin2hex(encrypt(pt, rkb, rk))\n",
    "print(\"Cipher Text : \", cipher_text)"
   ]
  },
  {
   "cell_type": "markdown",
   "metadata": {},
   "source": [
    "Now, we will decrypt the cipher text, we reuse the round key from the key_generation of Encryption stage. Outputs will be the same as Encryption step"
   ]
  },
  {
   "cell_type": "code",
   "execution_count": 3,
   "metadata": {},
   "outputs": [
    {
     "name": "stdout",
     "output_type": "stream",
     "text": [
      "Decryption\n",
      "After initial permutation 19BA9212CF26B472\n",
      "Round  1   CF26B472   321D92A1   010000000140\n",
      "Round  2   321D92A1   20C76E47   080000000002\n",
      "Round  3   20C76E47   37D179FC   020000200100\n",
      "Round  4   37D179FC   49B1F76A   040000022000\n",
      "Round  5   49B1F76A   3676CE5D   000010000001\n",
      "Round  6   3676CE5D   CC2A8F32   000000100080\n",
      "Round  7   CC2A8F32   0688E84C   200000000204\n",
      "Round  8   0688E84C   6CF61516   000002800000\n",
      "Round  9   6CF61516   D5CCF57E   800000000210\n",
      "Round  10   D5CCF57E   397840E1   000020800800\n",
      "Round  11   397840E1   69B3EBBA   000000000020\n",
      "Round  12   69B3EBBA   83AFF5AA   000004005000\n",
      "Round  13   83AFF5AA   A1B280E4   000000080008\n",
      "Round  14   A1B280E4   9B84B639   100000400400\n",
      "Round  15   9B84B639   9E4EB65E   000080008000\n",
      "Round  16   CCC23414   9E4EB65E   000008440000\n",
      "Plain Text :  123456ABCD132536\n"
     ]
    }
   ],
   "source": [
    "\n",
    "print(\"Decryption\")\n",
    "plain_text = decrypt(cipher_text, rkb, rk)\n",
    "print(\"Plain Text : \", text)"
   ]
  }
 ],
 "metadata": {
  "kernelspec": {
   "display_name": "Python 3",
   "language": "python",
   "name": "python3"
  },
  "language_info": {
   "codemirror_mode": {
    "name": "ipython",
    "version": 3
   },
   "file_extension": ".py",
   "mimetype": "text/x-python",
   "name": "python",
   "nbconvert_exporter": "python",
   "pygments_lexer": "ipython3",
   "version": "3.10.8"
  }
 },
 "nbformat": 4,
 "nbformat_minor": 2
}
