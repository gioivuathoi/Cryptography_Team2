{
 "cells": [
  {
   "cell_type": "markdown",
   "metadata": {},
   "source": [
    "This instruction for two classical encryption of Team 02: Ceasar and One-time Pad."
   ]
  },
  {
   "cell_type": "markdown",
   "metadata": {},
   "source": [
    "Ceaser: The code below will initailize encryption and decrytion functions and test those function"
   ]
  },
  {
   "cell_type": "code",
   "execution_count": 14,
   "metadata": {},
   "outputs": [
    {
     "name": "stdout",
     "output_type": "stream",
     "text": [
      "Encryption:  {'plain_text': 'is A in the password', 'key': 2, 'cipher_text': 'ku\"C\"kp\"vjg\"rcuuyqtf'}\n",
      "Decryption: is A in the password\n"
     ]
    }
   ],
   "source": [
    "import ceasar\n",
    "# Let's test our functions\n",
    "plain_text = \"is A in the password\"\n",
    "enc = ceasar.encryption(plain_text, 2)\n",
    "print(\"Encryption: \", enc)\n",
    "key = enc[\"key\"]\n",
    "cipher_text = enc[\"cipher_text\"]\n",
    "#hqt gcej ejctcevgt kp vjg ugetgv,  ujqy og vjg qtfgt qh kv kp vjg cnrjcdgv\n",
    "print(\"Decryption:\", ceasar.decryption(key, cipher_text))"
   ]
  },
  {
   "cell_type": "markdown",
   "metadata": {},
   "source": [
    "One-time pad: The code below will initailize encryption and decrytion functions and test those function"
   ]
  },
  {
   "cell_type": "code",
   "execution_count": 2,
   "metadata": {},
   "outputs": [
    {
     "name": "stdout",
     "output_type": "stream",
     "text": [
      "Encryption {'plain_text': 'I love you, Babe!!!!', 'keyword': ['e', 'M', 'Y', 'T', 'F', 'A', 'O', 'd', 'E', 'I', 't', 'R', 'd', 'q', 'E', 'Z', 'v', 'S', 'J', 'O'], 'cipher_text': 'M,jhae.bsc?1Eqfd63*/'}\n",
      "Decryption:  I love you, Babe!!!!\n"
     ]
    }
   ],
   "source": [
    "import one_time_pad\n",
    "# Let's test our functions\n",
    "plain_text = \"I love you, Babe!!!!\"\n",
    "enc = one_time_pad.encryption(plain_text)\n",
    "print(\"Encryption\", enc)\n",
    "keyword = enc[\"keyword\"]\n",
    "cipher_text = enc[\"cipher_text\"]\n",
    "print(\"Decryption: \", one_time_pad.decryption(keyword, cipher_text))"
   ]
  }
 ],
 "metadata": {
  "kernelspec": {
   "display_name": "Python 3",
   "language": "python",
   "name": "python3"
  },
  "language_info": {
   "codemirror_mode": {
    "name": "ipython",
    "version": 3
   },
   "file_extension": ".py",
   "mimetype": "text/x-python",
   "name": "python",
   "nbconvert_exporter": "python",
   "pygments_lexer": "ipython3",
   "version": "3.10.8"
  },
  "orig_nbformat": 4
 },
 "nbformat": 4,
 "nbformat_minor": 2
}
